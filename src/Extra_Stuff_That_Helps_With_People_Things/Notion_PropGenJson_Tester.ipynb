{
 "cells": [
  {
   "cell_type": "code",
   "execution_count": 19,
   "id": "95792beb-2778-4fbc-b2bd-7ffc3e2abd08",
   "metadata": {},
   "outputs": [
    {
     "name": "stdout",
     "output_type": "stream",
     "text": [
      "{\"mulsel\": {\"multi-select\": [{\"Option1\": {\"name\": \"Option1\"}, \"Option2\": {\"name\": \"Option2\"}}]}}\n"
     ]
    }
   ],
   "source": [
    "import json\n",
    "def mulsel_prop_gen(prop_name, prop_type, prop_value):\n",
    "        '''\n",
    "        Generates a multi-select or relation property JSON object.\n",
    "        '''\n",
    "        body_json = {}\n",
    "        for value in prop_value:\n",
    "            body_json[value] = {\"name\": value}\n",
    "        body_json = {prop_name: {prop_type: [body_json]}}\n",
    "        return body_json\n",
    "\n",
    "print(json.dumps(mulsel_prop_gen(\"mulsel\", \"multi-select\", [\"Option1\", \"Option2\"])))"
   ]
  },
  {
   "cell_type": "code",
   "execution_count": 21,
   "id": "9dc6ca0b-34b0-4900-ace0-463ce015a355",
   "metadata": {
    "scrolled": true
   },
   "outputs": [
    {
     "name": "stdout",
     "output_type": "stream",
     "text": [
      "{\"Name\": {\"id\": \"title\", \"type\": \"title\", \"title\": [{\"type\": \"text\", \"text\": {\"content\": \"I'm a title!\", \"link\": null}, \"annotations\": {\"bold\": false, \"italic\": false, \"strikethrough\": false, \"underline\": false, \"code\": false, \"color\": \"default\"}, \"plain_text\": \"I'm a title!\", \"href\": null}, {\"type\": \"text\", \"text\": {\"content\": \"I'm also a title!\", \"link\": null}, \"annotations\": {\"bold\": false, \"italic\": false, \"strikethrough\": false, \"underline\": false, \"code\": false, \"color\": \"default\"}, \"plain_text\": \"I'm also a title!\", \"href\": null}]}}\n"
     ]
    }
   ],
   "source": [
    "import json\n",
    "def title_prop_gen(prop_name, prop_type, prop_value, prop_value_link = None, annotation = None):\n",
    "        '''\n",
    "        \n",
    "        '''\n",
    "        default_annotations = {\"bold\": False, \"italic\": False, \"strikethrough\": False, \"underline\": False, \"code\": False, \"color\": \"default\"}\n",
    "        rich_body = []\n",
    "\n",
    "        if annotation and prop_value_link:\n",
    "            for x, y, z in zip(prop_value, prop_value_link, annotation):\n",
    "                rich_body.append({\"type\": \"text\", \"text\": {\"content\": x, \"link\": y}, \"annotations\": {\"bold\": z[\"bold\"], \"italic\": z[\"italic\"], \"strikethrough\": z[\"strikethrough\"], \"underline\": z[\"underline\"], \"code\": z[\"code\"], \"color\": z[\"color\"]}, \"plain_text\": x, \"href\": y})\n",
    "        elif prop_value_link:\n",
    "            for x, y in zip(prop_value, prop_value_link):\n",
    "                rich_body.append({\"type\": \"text\", \"text\": {\"content\": x, \"link\": y}, \"annotations\": default_annotations, \"plain_text\": x, \"href\": y})\n",
    "        elif annotation:\n",
    "            for x, z in zip(prop_value, annotation):\n",
    "                rich_body.append({\"type\": \"text\", \"text\": {\"content\": x, \"link\": y}, \"annotations\": {\"bold\": z[\"bold\"], \"italic\": z[\"italic\"], \"strikethrough\": z[\"strikethrough\"], \"underline\": z[\"underline\"], \"code\": z[\"code\"], \"color\": z[\"color\"]}, \"plain_text\": x, \"href\": y})\n",
    "        else:\n",
    "            for x in prop_value:\n",
    "                rich_body.append({\"type\": \"text\", \"text\": {\"content\": x, \"link\": prop_value_link}, \"annotations\": default_annotations, \"plain_text\": x, \"href\": prop_value_link})\n",
    "\n",
    "        return {prop_name: {\"id\": prop_type, \"type\": prop_type, prop_type: rich_body}}\n",
    "\n",
    "print(json.dumps(title_prop_gen(\"Name\", \"title\", [\"I'm a title!\", \"I'm also a title!\"])))"
   ]
  },
  {
   "cell_type": "code",
   "execution_count": 30,
   "id": "29f0d151-3c19-4138-8e22-5e798e100c45",
   "metadata": {
    "scrolled": true
   },
   "outputs": [
    {
     "name": "stdout",
     "output_type": "stream",
     "text": [
      "{\"Name\": {\"rich_text\": [{\"type\": \"text\", \"text\": {\"content\": \"aaaaaaaa\", \"link\": \"https://waddup.com\"}, \"annotations\": {\"bold\": false, \"italic\": false, \"strikethrough\": false, \"underline\": false, \"code\": false, \"color\": \"default\"}, \"plain_text\": \"aaaaaaaa\", \"href\": \"https://waddup.com\"}, {\"type\": \"text\", \"text\": {\"content\": \"really rich text\", \"link\": \"https://aaaaaaaaaa.aaa\"}, \"annotations\": {\"bold\": false, \"italic\": false, \"strikethrough\": false, \"underline\": false, \"code\": false, \"color\": \"default\"}, \"plain_text\": \"really rich text\", \"href\": \"https://aaaaaaaaaa.aaa\"}]}}\n"
     ]
    }
   ],
   "source": [
    "import json\n",
    "def rich_text_prop_gen(prop_name, prop_type, prop_value, prop_value_link = None, annotation = None):\n",
    "    '''\n",
    "    \n",
    "    '''\n",
    "    default_annotations = {\"bold\": False, \"italic\": False, \"strikethrough\": False, \"underline\": False, \"code\": False, \"color\": \"default\"}\n",
    "    rich_body = []\n",
    "\n",
    "    if annotation and prop_value_link:\n",
    "        for x, y, z in zip(prop_value, prop_value_link, annotation):\n",
    "            rich_body.append({\"type\": \"text\", \"text\": {\"content\": x, \"link\": y}, \"annotations\": {\"bold\": z[\"bold\"], \"italic\": z[\"italic\"], \"strikethrough\": z[\"strikethrough\"], \"underline\": z[\"underline\"], \"code\": z[\"code\"], \"color\": z[\"color\"]}, \"plain_text\": x, \"href\": y})\n",
    "    elif prop_value_link:\n",
    "        for x, y in zip(prop_value, prop_value_link):\n",
    "            rich_body.append({\"type\": \"text\", \"text\": {\"content\": x, \"link\": y}, \"annotations\": default_annotations, \"plain_text\": x, \"href\": y})\n",
    "    elif annotation:\n",
    "        for x, z in zip(prop_value, annotation):\n",
    "            rich_body.append({\"type\": \"text\", \"text\": {\"content\": x, \"link\": y}, \"annotations\": {\"bold\": z[\"bold\"], \"italic\": z[\"italic\"], \"strikethrough\": z[\"strikethrough\"], \"underline\": z[\"underline\"], \"code\": z[\"code\"], \"color\": z[\"color\"]}, \"plain_text\": x, \"href\": y})\n",
    "    else:\n",
    "        for x in prop_value:\n",
    "            rich_body.append({\"type\": \"text\", \"text\": {\"content\": x, \"link\": prop_value_link}, \"annotations\": default_annotations, \"plain_text\": x, \"href\": prop_value_link})\n",
    "\n",
    "    return {prop_name: {prop_type: rich_body}}\n",
    "\n",
    "print(json.dumps(rich_text_prop_gen(\"Name\", \"rich_text\", [\"aaaaaaaa\", \"really rich text\"], [\"https://waddup.com\", \"https://aaaaaaaaaa.aaa\"])))"
   ]
  },
  {
   "cell_type": "code",
   "execution_count": 36,
   "id": "fd0d7bdb-ab60-4209-977f-b34e34844c5a",
   "metadata": {},
   "outputs": [
    {
     "name": "stdout",
     "output_type": "stream",
     "text": [
      "{\"PEOPLE\": {\"people\": [{\"object\": \"user\", \"id\": \"Person 1\"}, {\"object\": \"user\", \"id\": \"Person 2\"}]}}\n"
     ]
    }
   ],
   "source": [
    "def people_prop_gen(prop_name, prop_type, prop_value):\n",
    "    '''\n",
    "    Generates a people property JSON object.\n",
    "    '''\n",
    "    prop_value_new = []\n",
    "    for value in prop_value:\n",
    "        prop_value_new.append({\"object\": \"user\",\"id\": value})\n",
    "    return {prop_name: {prop_type: prop_value_new}}\n",
    "\n",
    "print(json.dumps(people_prop_gen(\"PEOPLE\", \"people\", [\"Person 1\", \"Person 2\"])))"
   ]
  },
  {
   "cell_type": "code",
   "execution_count": 40,
   "id": "d7761283-0502-46ce-893c-456c9d0712f5",
   "metadata": {},
   "outputs": [
    {
     "name": "stdout",
     "output_type": "stream",
     "text": [
      "{\"FILES\": {\"files\": [{\"name\": \"file name\", \"external\": {\"url\": \"https://www.filename.com\"}}]}}\n"
     ]
    }
   ],
   "source": [
    "def files_prop_gen(prop_name, prop_type, prop_value, prop_value2):\n",
    "    '''\n",
    "    Generates a files property JSON object.\n",
    "    '''\n",
    "    file_body = []\n",
    "    for name, url in zip(prop_value, prop_value2):\n",
    "        file_body.append({\"name\": name, \"external\": {\"url\": url}})\n",
    "    return {prop_name: {prop_type: file_body}}\n",
    "\n",
    "print(json.dumps(files_prop_gen(\"FILES\", \"files\", [\"file name\"], [\"https://www.filename.com\"])))"
   ]
  }
 ],
 "metadata": {
  "kernelspec": {
   "display_name": "Python 3 (ipykernel)",
   "language": "python",
   "name": "python3"
  },
  "language_info": {
   "codemirror_mode": {
    "name": "ipython",
    "version": 3
   },
   "file_extension": ".py",
   "mimetype": "text/x-python",
   "name": "python",
   "nbconvert_exporter": "python",
   "pygments_lexer": "ipython3",
   "version": "3.12.4"
  }
 },
 "nbformat": 4,
 "nbformat_minor": 5
}
